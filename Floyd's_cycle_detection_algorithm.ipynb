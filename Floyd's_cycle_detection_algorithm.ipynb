{
  "nbformat": 4,
  "nbformat_minor": 0,
  "metadata": {
    "colab": {
      "provenance": [],
      "authorship_tag": "ABX9TyPAz4RnPEzDNuucqOLbY3vP",
      "include_colab_link": true
    },
    "kernelspec": {
      "name": "python3",
      "display_name": "Python 3"
    },
    "language_info": {
      "name": "python"
    }
  },
  "cells": [
    {
      "cell_type": "markdown",
      "metadata": {
        "id": "view-in-github",
        "colab_type": "text"
      },
      "source": [
        "<a href=\"https://colab.research.google.com/github/jyotidabass/Floyd-s-cycle-detection-algorithm/blob/main/Floyd's_cycle_detection_algorithm.ipynb\" target=\"_parent\"><img src=\"https://colab.research.google.com/assets/colab-badge.svg\" alt=\"Open In Colab\"/></a>"
      ]
    },
    {
      "cell_type": "markdown",
      "source": [
        "# Here's a simple Python code for Floyd's cycle detection algorithm.\n",
        "\n",
        "This code takes a linked list as input and returns True if the linked list has a cycle, and False otherwise.\n",
        "\n",
        "In this code, we define a ListNode class to represent a node in the linked list. The has_cycle function takes a linked list head node as input and uses Floyd's algorithm to check if there is a cycle.\n",
        "\n",
        "The function initializes two pointers, slow and fast, to point to the head node. The fast pointer moves twice as fast as the slow pointer. If the fast pointer reaches the end of the list or its next node is None, the function returns False (no cycle).\n",
        "\n",
        "If the slow and fast pointers meet at some point, it means there is a cycle. The function returns True in this case."
      ],
      "metadata": {
        "id": "8LIpGhvFUg-Y"
      }
    },
    {
      "cell_type": "code",
      "execution_count": 1,
      "metadata": {
        "colab": {
          "base_uri": "https://localhost:8080/"
        },
        "id": "39BevXF1UUlC",
        "outputId": "e72fc3dc-3eac-4388-f9ac-30846799ef7c"
      },
      "outputs": [
        {
          "output_type": "execute_result",
          "data": {
            "text/plain": [
              "False"
            ]
          },
          "metadata": {},
          "execution_count": 1
        }
      ],
      "source": [
        "# Definition for singly-linked list.\n",
        "class ListNode:\n",
        "    def __init__(self, val=0, next=None):\n",
        "        self.val = val\n",
        "        self.next = next\n",
        "\n",
        "def has_cycle(head: ListNode):\n",
        "    slow, fast = head, head\n",
        "\n",
        "    while fast and fast.next:\n",
        "        slow = slow.next\n",
        "        fast = fast.next.next\n",
        "\n",
        "        if slow == fast:\n",
        "            return True\n",
        "\n",
        "    return False\n",
        "\n",
        "# Example usage\n",
        "head = ListNode(1)\n",
        "head.next = ListNode(2)\n",
        "head.next.next = ListNode(3)\n",
        "head.next.next.next = head\n",
        "\n",
        "has_cycle(head)  # Returns True\n",
        "\n",
        "# No cycle\n",
        "head = ListNode(1)\n",
        "head.next = ListNode(2)\n",
        "head.next.next = ListNode(3)\n",
        "\n",
        "has_cycle(head)  # Returns False"
      ]
    },
    {
      "cell_type": "markdown",
      "source": [
        "# **Thanks!!**"
      ],
      "metadata": {
        "id": "3f0JKANPUuPb"
      }
    }
  ]
}